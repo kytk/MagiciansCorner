{
  "nbformat": 4,
  "nbformat_minor": 0,
  "metadata": {
    "colab": {
      "name": "Magicians Corner: 9. Performance Metrics for Machine Learning.ipynb",
      "provenance": [],
      "collapsed_sections": [],
      "include_colab_link": true
    },
    "kernelspec": {
      "name": "python3",
      "display_name": "Python 3"
    },
    "widgets": {
      "application/vnd.jupyter.widget-state+json": {
        "dd82623a6f574cfeb20c8d986183c743": {
          "model_module": "@jupyter-widgets/controls",
          "model_name": "IntSliderModel",
          "state": {
            "_view_name": "IntSliderView",
            "style": "IPY_MODEL_974469c92daf44f2a9478b67ef2e5361",
            "_dom_classes": [],
            "description": "",
            "step": 1,
            "_model_name": "IntSliderModel",
            "orientation": "horizontal",
            "max": 100,
            "_view_module": "@jupyter-widgets/controls",
            "_model_module_version": "1.5.0",
            "value": 50,
            "_view_count": null,
            "disabled": false,
            "_view_module_version": "1.5.0",
            "min": 0,
            "continuous_update": true,
            "readout_format": "d",
            "description_tooltip": null,
            "readout": true,
            "_model_module": "@jupyter-widgets/controls",
            "layout": "IPY_MODEL_c69861a4054d4becaacc54980d30e3da"
          }
        },
        "974469c92daf44f2a9478b67ef2e5361": {
          "model_module": "@jupyter-widgets/controls",
          "model_name": "SliderStyleModel",
          "state": {
            "_view_name": "StyleView",
            "handle_color": null,
            "_model_name": "SliderStyleModel",
            "description_width": "",
            "_view_module": "@jupyter-widgets/base",
            "_model_module_version": "1.5.0",
            "_view_count": null,
            "_view_module_version": "1.2.0",
            "_model_module": "@jupyter-widgets/controls"
          }
        },
        "c69861a4054d4becaacc54980d30e3da": {
          "model_module": "@jupyter-widgets/base",
          "model_name": "LayoutModel",
          "state": {
            "_view_name": "LayoutView",
            "grid_template_rows": null,
            "right": null,
            "justify_content": null,
            "_view_module": "@jupyter-widgets/base",
            "overflow": null,
            "_model_module_version": "1.2.0",
            "_view_count": null,
            "flex_flow": null,
            "width": null,
            "min_width": null,
            "border": null,
            "align_items": null,
            "bottom": null,
            "_model_module": "@jupyter-widgets/base",
            "top": null,
            "grid_column": null,
            "overflow_y": null,
            "overflow_x": null,
            "grid_auto_flow": null,
            "grid_area": null,
            "grid_template_columns": null,
            "flex": null,
            "_model_name": "LayoutModel",
            "justify_items": null,
            "grid_row": null,
            "max_height": null,
            "align_content": null,
            "visibility": null,
            "align_self": null,
            "height": null,
            "min_height": null,
            "padding": null,
            "grid_auto_rows": null,
            "grid_gap": null,
            "max_width": null,
            "order": null,
            "_view_module_version": "1.2.0",
            "grid_template_areas": null,
            "object_position": null,
            "object_fit": null,
            "grid_auto_columns": null,
            "margin": null,
            "display": null,
            "left": null
          }
        },
        "5ae15e0ceac74392a1deff5b57a3e642": {
          "model_module": "@jupyter-widgets/controls",
          "model_name": "ButtonModel",
          "state": {
            "_view_name": "ButtonView",
            "style": "IPY_MODEL_79788d29c32047238626542905bf34e6",
            "_dom_classes": [],
            "description": "Calculate",
            "_model_name": "ButtonModel",
            "button_style": "",
            "_view_module": "@jupyter-widgets/controls",
            "_model_module_version": "1.5.0",
            "tooltip": "",
            "_view_count": null,
            "disabled": false,
            "_view_module_version": "1.5.0",
            "layout": "IPY_MODEL_aedf25e2690347b38ad129e7d58ed556",
            "_model_module": "@jupyter-widgets/controls",
            "icon": ""
          }
        },
        "79788d29c32047238626542905bf34e6": {
          "model_module": "@jupyter-widgets/controls",
          "model_name": "ButtonStyleModel",
          "state": {
            "_view_name": "StyleView",
            "_model_name": "ButtonStyleModel",
            "_view_module": "@jupyter-widgets/base",
            "_model_module_version": "1.5.0",
            "_view_count": null,
            "button_color": null,
            "font_weight": "",
            "_view_module_version": "1.2.0",
            "_model_module": "@jupyter-widgets/controls"
          }
        },
        "aedf25e2690347b38ad129e7d58ed556": {
          "model_module": "@jupyter-widgets/base",
          "model_name": "LayoutModel",
          "state": {
            "_view_name": "LayoutView",
            "grid_template_rows": null,
            "right": null,
            "justify_content": null,
            "_view_module": "@jupyter-widgets/base",
            "overflow": null,
            "_model_module_version": "1.2.0",
            "_view_count": null,
            "flex_flow": null,
            "width": null,
            "min_width": null,
            "border": null,
            "align_items": null,
            "bottom": null,
            "_model_module": "@jupyter-widgets/base",
            "top": null,
            "grid_column": null,
            "overflow_y": null,
            "overflow_x": null,
            "grid_auto_flow": null,
            "grid_area": null,
            "grid_template_columns": null,
            "flex": null,
            "_model_name": "LayoutModel",
            "justify_items": null,
            "grid_row": null,
            "max_height": null,
            "align_content": null,
            "visibility": null,
            "align_self": null,
            "height": null,
            "min_height": null,
            "padding": null,
            "grid_auto_rows": null,
            "grid_gap": null,
            "max_width": null,
            "order": null,
            "_view_module_version": "1.2.0",
            "grid_template_areas": null,
            "object_position": null,
            "object_fit": null,
            "grid_auto_columns": null,
            "margin": null,
            "display": null,
            "left": null
          }
        },
        "f4c836f96afc443aa32ff2d5af379652": {
          "model_module": "@jupyter-widgets/output",
          "model_name": "OutputModel",
          "state": {
            "_view_name": "OutputView",
            "msg_id": "",
            "_dom_classes": [],
            "_model_name": "OutputModel",
            "outputs": [],
            "_view_module": "@jupyter-widgets/output",
            "_model_module_version": "1.0.0",
            "_view_count": null,
            "_view_module_version": "1.0.0",
            "layout": "IPY_MODEL_9a50b638e88c444489a385878237e1ce",
            "_model_module": "@jupyter-widgets/output"
          }
        },
        "9a50b638e88c444489a385878237e1ce": {
          "model_module": "@jupyter-widgets/base",
          "model_name": "LayoutModel",
          "state": {
            "_view_name": "LayoutView",
            "grid_template_rows": null,
            "right": null,
            "justify_content": null,
            "_view_module": "@jupyter-widgets/base",
            "overflow": null,
            "_model_module_version": "1.2.0",
            "_view_count": null,
            "flex_flow": null,
            "width": null,
            "min_width": null,
            "border": null,
            "align_items": null,
            "bottom": null,
            "_model_module": "@jupyter-widgets/base",
            "top": null,
            "grid_column": null,
            "overflow_y": null,
            "overflow_x": null,
            "grid_auto_flow": null,
            "grid_area": null,
            "grid_template_columns": null,
            "flex": null,
            "_model_name": "LayoutModel",
            "justify_items": null,
            "grid_row": null,
            "max_height": null,
            "align_content": null,
            "visibility": null,
            "align_self": null,
            "height": null,
            "min_height": null,
            "padding": null,
            "grid_auto_rows": null,
            "grid_gap": null,
            "max_width": null,
            "order": null,
            "_view_module_version": "1.2.0",
            "grid_template_areas": null,
            "object_position": null,
            "object_fit": null,
            "grid_auto_columns": null,
            "margin": null,
            "display": null,
            "left": null
          }
        },
        "5d8c42fff75b40419456b89a588a5224": {
          "model_module": "@jupyter-widgets/controls",
          "model_name": "IntSliderModel",
          "state": {
            "_view_name": "IntSliderView",
            "style": "IPY_MODEL_fac0e8470bd6400199a92a33e748222e",
            "_dom_classes": [],
            "description": "",
            "step": 1,
            "_model_name": "IntSliderModel",
            "orientation": "horizontal",
            "max": 100,
            "_view_module": "@jupyter-widgets/controls",
            "_model_module_version": "1.5.0",
            "value": 50,
            "_view_count": null,
            "disabled": false,
            "_view_module_version": "1.5.0",
            "min": 0,
            "continuous_update": true,
            "readout_format": "d",
            "description_tooltip": null,
            "readout": true,
            "_model_module": "@jupyter-widgets/controls",
            "layout": "IPY_MODEL_b4b50b835fc1410f9351e207fa98c84f"
          }
        },
        "fac0e8470bd6400199a92a33e748222e": {
          "model_module": "@jupyter-widgets/controls",
          "model_name": "SliderStyleModel",
          "state": {
            "_view_name": "StyleView",
            "handle_color": null,
            "_model_name": "SliderStyleModel",
            "description_width": "",
            "_view_module": "@jupyter-widgets/base",
            "_model_module_version": "1.5.0",
            "_view_count": null,
            "_view_module_version": "1.2.0",
            "_model_module": "@jupyter-widgets/controls"
          }
        },
        "b4b50b835fc1410f9351e207fa98c84f": {
          "model_module": "@jupyter-widgets/base",
          "model_name": "LayoutModel",
          "state": {
            "_view_name": "LayoutView",
            "grid_template_rows": null,
            "right": null,
            "justify_content": null,
            "_view_module": "@jupyter-widgets/base",
            "overflow": null,
            "_model_module_version": "1.2.0",
            "_view_count": null,
            "flex_flow": null,
            "width": null,
            "min_width": null,
            "border": null,
            "align_items": null,
            "bottom": null,
            "_model_module": "@jupyter-widgets/base",
            "top": null,
            "grid_column": null,
            "overflow_y": null,
            "overflow_x": null,
            "grid_auto_flow": null,
            "grid_area": null,
            "grid_template_columns": null,
            "flex": null,
            "_model_name": "LayoutModel",
            "justify_items": null,
            "grid_row": null,
            "max_height": null,
            "align_content": null,
            "visibility": null,
            "align_self": null,
            "height": null,
            "min_height": null,
            "padding": null,
            "grid_auto_rows": null,
            "grid_gap": null,
            "max_width": null,
            "order": null,
            "_view_module_version": "1.2.0",
            "grid_template_areas": null,
            "object_position": null,
            "object_fit": null,
            "grid_auto_columns": null,
            "margin": null,
            "display": null,
            "left": null
          }
        },
        "9ae99067b90940d887f54a9e76e1f7f2": {
          "model_module": "@jupyter-widgets/controls",
          "model_name": "ButtonModel",
          "state": {
            "_view_name": "ButtonView",
            "style": "IPY_MODEL_149e1b012c6c4fcb94a21e1365d13b40",
            "_dom_classes": [],
            "description": "Calculate",
            "_model_name": "ButtonModel",
            "button_style": "",
            "_view_module": "@jupyter-widgets/controls",
            "_model_module_version": "1.5.0",
            "tooltip": "",
            "_view_count": null,
            "disabled": false,
            "_view_module_version": "1.5.0",
            "layout": "IPY_MODEL_3ede42aa7177408ab47e3c3dabad08d0",
            "_model_module": "@jupyter-widgets/controls",
            "icon": ""
          }
        },
        "149e1b012c6c4fcb94a21e1365d13b40": {
          "model_module": "@jupyter-widgets/controls",
          "model_name": "ButtonStyleModel",
          "state": {
            "_view_name": "StyleView",
            "_model_name": "ButtonStyleModel",
            "_view_module": "@jupyter-widgets/base",
            "_model_module_version": "1.5.0",
            "_view_count": null,
            "button_color": null,
            "font_weight": "",
            "_view_module_version": "1.2.0",
            "_model_module": "@jupyter-widgets/controls"
          }
        },
        "3ede42aa7177408ab47e3c3dabad08d0": {
          "model_module": "@jupyter-widgets/base",
          "model_name": "LayoutModel",
          "state": {
            "_view_name": "LayoutView",
            "grid_template_rows": null,
            "right": null,
            "justify_content": null,
            "_view_module": "@jupyter-widgets/base",
            "overflow": null,
            "_model_module_version": "1.2.0",
            "_view_count": null,
            "flex_flow": null,
            "width": null,
            "min_width": null,
            "border": null,
            "align_items": null,
            "bottom": null,
            "_model_module": "@jupyter-widgets/base",
            "top": null,
            "grid_column": null,
            "overflow_y": null,
            "overflow_x": null,
            "grid_auto_flow": null,
            "grid_area": null,
            "grid_template_columns": null,
            "flex": null,
            "_model_name": "LayoutModel",
            "justify_items": null,
            "grid_row": null,
            "max_height": null,
            "align_content": null,
            "visibility": null,
            "align_self": null,
            "height": null,
            "min_height": null,
            "padding": null,
            "grid_auto_rows": null,
            "grid_gap": null,
            "max_width": null,
            "order": null,
            "_view_module_version": "1.2.0",
            "grid_template_areas": null,
            "object_position": null,
            "object_fit": null,
            "grid_auto_columns": null,
            "margin": null,
            "display": null,
            "left": null
          }
        },
        "e3adbe35ed174475826fc9f563b37a5c": {
          "model_module": "@jupyter-widgets/output",
          "model_name": "OutputModel",
          "state": {
            "_view_name": "OutputView",
            "msg_id": "",
            "_dom_classes": [],
            "_model_name": "OutputModel",
            "outputs": [],
            "_view_module": "@jupyter-widgets/output",
            "_model_module_version": "1.0.0",
            "_view_count": null,
            "_view_module_version": "1.0.0",
            "layout": "IPY_MODEL_6d9054e5b7034b219da2835b4cf122e2",
            "_model_module": "@jupyter-widgets/output"
          }
        },
        "6d9054e5b7034b219da2835b4cf122e2": {
          "model_module": "@jupyter-widgets/base",
          "model_name": "LayoutModel",
          "state": {
            "_view_name": "LayoutView",
            "grid_template_rows": null,
            "right": null,
            "justify_content": null,
            "_view_module": "@jupyter-widgets/base",
            "overflow": null,
            "_model_module_version": "1.2.0",
            "_view_count": null,
            "flex_flow": null,
            "width": null,
            "min_width": null,
            "border": null,
            "align_items": null,
            "bottom": null,
            "_model_module": "@jupyter-widgets/base",
            "top": null,
            "grid_column": null,
            "overflow_y": null,
            "overflow_x": null,
            "grid_auto_flow": null,
            "grid_area": null,
            "grid_template_columns": null,
            "flex": null,
            "_model_name": "LayoutModel",
            "justify_items": null,
            "grid_row": null,
            "max_height": null,
            "align_content": null,
            "visibility": null,
            "align_self": null,
            "height": null,
            "min_height": null,
            "padding": null,
            "grid_auto_rows": null,
            "grid_gap": null,
            "max_width": null,
            "order": null,
            "_view_module_version": "1.2.0",
            "grid_template_areas": null,
            "object_position": null,
            "object_fit": null,
            "grid_auto_columns": null,
            "margin": null,
            "display": null,
            "left": null
          }
        },
        "a956aac94c32495da88fbc2876d7a323": {
          "model_module": "@jupyter-widgets/controls",
          "model_name": "IntSliderModel",
          "state": {
            "_view_name": "IntSliderView",
            "style": "IPY_MODEL_8bbb9cc4e6294db6b2936d2094926461",
            "_dom_classes": [],
            "description": "",
            "step": 1,
            "_model_name": "IntSliderModel",
            "orientation": "horizontal",
            "max": 100,
            "_view_module": "@jupyter-widgets/controls",
            "_model_module_version": "1.5.0",
            "value": 50,
            "_view_count": null,
            "disabled": false,
            "_view_module_version": "1.5.0",
            "min": 0,
            "continuous_update": true,
            "readout_format": "d",
            "description_tooltip": null,
            "readout": true,
            "_model_module": "@jupyter-widgets/controls",
            "layout": "IPY_MODEL_3300c3fa4d50473ea520e2d7d01db2b6"
          }
        },
        "8bbb9cc4e6294db6b2936d2094926461": {
          "model_module": "@jupyter-widgets/controls",
          "model_name": "SliderStyleModel",
          "state": {
            "_view_name": "StyleView",
            "handle_color": null,
            "_model_name": "SliderStyleModel",
            "description_width": "",
            "_view_module": "@jupyter-widgets/base",
            "_model_module_version": "1.5.0",
            "_view_count": null,
            "_view_module_version": "1.2.0",
            "_model_module": "@jupyter-widgets/controls"
          }
        },
        "3300c3fa4d50473ea520e2d7d01db2b6": {
          "model_module": "@jupyter-widgets/base",
          "model_name": "LayoutModel",
          "state": {
            "_view_name": "LayoutView",
            "grid_template_rows": null,
            "right": null,
            "justify_content": null,
            "_view_module": "@jupyter-widgets/base",
            "overflow": null,
            "_model_module_version": "1.2.0",
            "_view_count": null,
            "flex_flow": null,
            "width": null,
            "min_width": null,
            "border": null,
            "align_items": null,
            "bottom": null,
            "_model_module": "@jupyter-widgets/base",
            "top": null,
            "grid_column": null,
            "overflow_y": null,
            "overflow_x": null,
            "grid_auto_flow": null,
            "grid_area": null,
            "grid_template_columns": null,
            "flex": null,
            "_model_name": "LayoutModel",
            "justify_items": null,
            "grid_row": null,
            "max_height": null,
            "align_content": null,
            "visibility": null,
            "align_self": null,
            "height": null,
            "min_height": null,
            "padding": null,
            "grid_auto_rows": null,
            "grid_gap": null,
            "max_width": null,
            "order": null,
            "_view_module_version": "1.2.0",
            "grid_template_areas": null,
            "object_position": null,
            "object_fit": null,
            "grid_auto_columns": null,
            "margin": null,
            "display": null,
            "left": null
          }
        },
        "13656dbf1c634caca1a1c0bdeb790470": {
          "model_module": "@jupyter-widgets/controls",
          "model_name": "ButtonModel",
          "state": {
            "_view_name": "ButtonView",
            "style": "IPY_MODEL_1e549493db064fd5ab730e1aaaf8af7f",
            "_dom_classes": [],
            "description": "Calculate",
            "_model_name": "ButtonModel",
            "button_style": "",
            "_view_module": "@jupyter-widgets/controls",
            "_model_module_version": "1.5.0",
            "tooltip": "",
            "_view_count": null,
            "disabled": false,
            "_view_module_version": "1.5.0",
            "layout": "IPY_MODEL_0cfac2967b1b450696f4dea9aa5f0b77",
            "_model_module": "@jupyter-widgets/controls",
            "icon": ""
          }
        },
        "1e549493db064fd5ab730e1aaaf8af7f": {
          "model_module": "@jupyter-widgets/controls",
          "model_name": "ButtonStyleModel",
          "state": {
            "_view_name": "StyleView",
            "_model_name": "ButtonStyleModel",
            "_view_module": "@jupyter-widgets/base",
            "_model_module_version": "1.5.0",
            "_view_count": null,
            "button_color": null,
            "font_weight": "",
            "_view_module_version": "1.2.0",
            "_model_module": "@jupyter-widgets/controls"
          }
        },
        "0cfac2967b1b450696f4dea9aa5f0b77": {
          "model_module": "@jupyter-widgets/base",
          "model_name": "LayoutModel",
          "state": {
            "_view_name": "LayoutView",
            "grid_template_rows": null,
            "right": null,
            "justify_content": null,
            "_view_module": "@jupyter-widgets/base",
            "overflow": null,
            "_model_module_version": "1.2.0",
            "_view_count": null,
            "flex_flow": null,
            "width": null,
            "min_width": null,
            "border": null,
            "align_items": null,
            "bottom": null,
            "_model_module": "@jupyter-widgets/base",
            "top": null,
            "grid_column": null,
            "overflow_y": null,
            "overflow_x": null,
            "grid_auto_flow": null,
            "grid_area": null,
            "grid_template_columns": null,
            "flex": null,
            "_model_name": "LayoutModel",
            "justify_items": null,
            "grid_row": null,
            "max_height": null,
            "align_content": null,
            "visibility": null,
            "align_self": null,
            "height": null,
            "min_height": null,
            "padding": null,
            "grid_auto_rows": null,
            "grid_gap": null,
            "max_width": null,
            "order": null,
            "_view_module_version": "1.2.0",
            "grid_template_areas": null,
            "object_position": null,
            "object_fit": null,
            "grid_auto_columns": null,
            "margin": null,
            "display": null,
            "left": null
          }
        },
        "bc8682eca5ad41809e993cb92fc42e92": {
          "model_module": "@jupyter-widgets/output",
          "model_name": "OutputModel",
          "state": {
            "_view_name": "OutputView",
            "msg_id": "",
            "_dom_classes": [],
            "_model_name": "OutputModel",
            "outputs": [],
            "_view_module": "@jupyter-widgets/output",
            "_model_module_version": "1.0.0",
            "_view_count": null,
            "_view_module_version": "1.0.0",
            "layout": "IPY_MODEL_0e4f8695536e493c9a3b598f8dfd4e4a",
            "_model_module": "@jupyter-widgets/output"
          }
        },
        "0e4f8695536e493c9a3b598f8dfd4e4a": {
          "model_module": "@jupyter-widgets/base",
          "model_name": "LayoutModel",
          "state": {
            "_view_name": "LayoutView",
            "grid_template_rows": null,
            "right": null,
            "justify_content": null,
            "_view_module": "@jupyter-widgets/base",
            "overflow": null,
            "_model_module_version": "1.2.0",
            "_view_count": null,
            "flex_flow": null,
            "width": null,
            "min_width": null,
            "border": null,
            "align_items": null,
            "bottom": null,
            "_model_module": "@jupyter-widgets/base",
            "top": null,
            "grid_column": null,
            "overflow_y": null,
            "overflow_x": null,
            "grid_auto_flow": null,
            "grid_area": null,
            "grid_template_columns": null,
            "flex": null,
            "_model_name": "LayoutModel",
            "justify_items": null,
            "grid_row": null,
            "max_height": null,
            "align_content": null,
            "visibility": null,
            "align_self": null,
            "height": null,
            "min_height": null,
            "padding": null,
            "grid_auto_rows": null,
            "grid_gap": null,
            "max_width": null,
            "order": null,
            "_view_module_version": "1.2.0",
            "grid_template_areas": null,
            "object_position": null,
            "object_fit": null,
            "grid_auto_columns": null,
            "margin": null,
            "display": null,
            "left": null
          }
        }
      }
    }
  },
  "cells": [
    {
      "cell_type": "markdown",
      "metadata": {
        "id": "view-in-github",
        "colab_type": "text"
      },
      "source": [
        "<a href=\"https://colab.research.google.com/github/RSNA/MagiciansCorner/blob/master/Magicians_Corner_9_Performance_Metrics_for_Machine_Learning.ipynb\" target=\"_parent\"><img src=\"https://colab.research.google.com/assets/colab-badge.svg\" alt=\"Open In Colab\"/></a>"
      ]
    },
    {
      "cell_type": "markdown",
      "metadata": {
        "id": "1bCyARWQoghj",
        "colab_type": "text"
      },
      "source": [
        "# Magicians Corner: 9. Performance Metrics for Machine Learning"
      ]
    },
    {
      "cell_type": "markdown",
      "metadata": {
        "id": "jPkTB_P5oqPh",
        "colab_type": "text"
      },
      "source": [
        "###by: Bradley J Erickson, MD PhD and Felipe Kitamura, MD MSc\n",
        "*Copyright 2020\n",
        "\n",
        "###See corresponding Radiology: Artificial Intelligence article here: << TBD >>\n",
        "\n",
        "\n",
        "Thanks to scikit-learn (https://scikit-learn.org/0.20/index.html)\n",
        "\n",
        "\n",
        "In this tutorial, we'll focus on classification and segmentation metrics"
      ]
    },
    {
      "cell_type": "markdown",
      "metadata": {
        "id": "0qdns3iCouzp",
        "colab_type": "text"
      },
      "source": [
        "# 1. Classification Metrics"
      ]
    },
    {
      "cell_type": "markdown",
      "metadata": {
        "id": "SmMeSuyopema",
        "colab_type": "text"
      },
      "source": [
        "Classification models can be divided into:\n",
        "\n",
        "\n",
        "1.   **Binary**: the model output is a single decimal number between 0 and 1. After applying a threshold, it will turn into 0 or 1. Example: an X-ray can have consolidation or not.\n",
        "2.   **Multiclass**: the model output is made of N decimal numbers (N is the number of classes). After applying a threshold, only one of the classes can be 1. The rest will be zero. Example: a modality can only be MR, or CT, or US, or CR. Not more than 1 of them.\n",
        "3.   **Multilabel**: the model output is made of N decimal numbers (N is the number of classes). After applying a threshold, any of the classes can be 0 or 1. Example: a head CT slice with intracranial hemorrhage can have any combination of epidural, subdural, intraventricular, and/or intraparenchymal hemorrhage.\n",
        "\n",
        "We'll focus on binary classification.\n",
        "\n"
      ]
    },
    {
      "cell_type": "code",
      "metadata": {
        "id": "C1f_2EyYn5Xf",
        "colab_type": "code",
        "colab": {}
      },
      "source": [
        "# Cell 1\n",
        "\n",
        "# First, we import the libraries we will use.\n",
        "\n",
        "import pandas as pd\n",
        "import numpy as np\n",
        "import matplotlib.pyplot as plt\n",
        "from sklearn.metrics import roc_curve, \\\n",
        "                            auc, \\\n",
        "                            precision_recall_curve, \\\n",
        "                            average_precision_score, \\\n",
        "                            roc_auc_score, \\\n",
        "                            confusion_matrix, \\\n",
        "                            accuracy_score, \\\n",
        "                            f1_score, \\\n",
        "                            cohen_kappa_score\n",
        "from sklearn.utils.multiclass import unique_labels\n",
        "from sklearn.calibration import calibration_curve\n",
        "import ipywidgets as widgets\n",
        "from IPython.display import clear_output"
      ],
      "execution_count": null,
      "outputs": []
    },
    {
      "cell_type": "markdown",
      "metadata": {
        "id": "iqqIGNE1CnNM",
        "colab_type": "text"
      },
      "source": [
        "## Binary Classification\n",
        "\n",
        "Let's supose we have a model that classifies an X-ray image into normal vs pneumonia.\n",
        "\n",
        "In this case, the model output will be a decimal number somewhere between 0 and 1. As convention, we will define 0 as normal and 1 as pneumonia.\n",
        "\n",
        "So, what do we do if, for a given X-ray, the model output (score) is 0.5? What if it's 0.3, or 0.9?\n",
        "\n",
        "The first concept we need to cover is the **threshold**. The **threshold** is a cutoff value above which we say the result is 1. If the score is equal or less than the threshold, the result is 0.\n",
        "\n",
        "Higher thresholds mean we will be too picky and undercall the diagnosis, but when we do it, we will be more confident.\n",
        "\n",
        "Lower thresholds mean we will overcall the diagnosis and  ensure that real positive cases are not missed. However lowering the threshold will also result in more real negative cases being called positive.\n",
        "\n",
        "Let's go through some examples. In this module we will not train any neural network. We've done the inference of a neural network on the test set and the result is in the scores.csv file.\n"
      ]
    },
    {
      "cell_type": "code",
      "metadata": {
        "id": "fA25RiWbCci2",
        "colab_type": "code",
        "colab": {
          "base_uri": "https://localhost:8080/",
          "height": 391
        },
        "outputId": "2ac431f5-1661-4c17-8980-67742a1e2445"
      },
      "source": [
        "# Cell 2\n",
        "\n",
        "# Download the scores.csv file to calculate the metrics from it.\n",
        "\n",
        "!wget https://raw.githubusercontent.com/kitamura-felipe/MC10-Metrics4ML/master/scores_1.csv -O scores.csv\n",
        "!wget https://raw.githubusercontent.com/kitamura-felipe/MC10-Metrics4ML/master/scores_multiclass.csv -O scores_multiclass.csv"
      ],
      "execution_count": null,
      "outputs": [
        {
          "output_type": "stream",
          "text": [
            "--2020-09-08 15:38:27--  https://raw.githubusercontent.com/kitamura-felipe/MC10-Metrics4ML/master/scores_1.csv\n",
            "Resolving raw.githubusercontent.com (raw.githubusercontent.com)... 151.101.0.133, 151.101.64.133, 151.101.128.133, ...\n",
            "Connecting to raw.githubusercontent.com (raw.githubusercontent.com)|151.101.0.133|:443... connected.\n",
            "HTTP request sent, awaiting response... 200 OK\n",
            "Length: 237930 (232K) [text/plain]\n",
            "Saving to: ‘scores.csv’\n",
            "\n",
            "scores.csv          100%[===================>] 232.35K  --.-KB/s    in 0.03s   \n",
            "\n",
            "2020-09-08 15:38:27 (6.73 MB/s) - ‘scores.csv’ saved [237930/237930]\n",
            "\n",
            "--2020-09-08 15:38:27--  https://raw.githubusercontent.com/kitamura-felipe/MC10-Metrics4ML/master/scores_multiclass.csv\n",
            "Resolving raw.githubusercontent.com (raw.githubusercontent.com)... 151.101.0.133, 151.101.64.133, 151.101.128.133, ...\n",
            "Connecting to raw.githubusercontent.com (raw.githubusercontent.com)|151.101.0.133|:443... connected.\n",
            "HTTP request sent, awaiting response... 200 OK\n",
            "Length: 763 [text/plain]\n",
            "Saving to: ‘scores_multiclass.csv’\n",
            "\n",
            "scores_multiclass.c 100%[===================>]     763  --.-KB/s    in 0s      \n",
            "\n",
            "2020-09-08 15:38:27 (35.7 MB/s) - ‘scores_multiclass.csv’ saved [763/763]\n",
            "\n"
          ],
          "name": "stdout"
        }
      ]
    },
    {
      "cell_type": "code",
      "metadata": {
        "id": "NMtWIf_bqTCe",
        "colab_type": "code",
        "colab": {
          "base_uri": "https://localhost:8080/",
          "height": 393
        },
        "outputId": "5b167f37-d060-462c-a184-bf8c77b31a3b"
      },
      "source": [
        "# Cell 3\n",
        "\n",
        "# Open this scores.csv file and view some of it's content\n",
        "\n",
        "df = pd.read_csv('scores.csv')\n",
        "\n",
        "print(\"Total number of rows (inferences on X-rays): \" + str(len(df)))\n",
        "print(\"We see the first 10 cases in this table.\")\n",
        "\n",
        "df.head(10)"
      ],
      "execution_count": null,
      "outputs": [
        {
          "output_type": "stream",
          "text": [
            "Total number of rows (inferences on X-rays): 10200\n",
            "We see the first 10 cases in this table.\n"
          ],
          "name": "stdout"
        },
        {
          "output_type": "execute_result",
          "data": {
            "text/html": [
              "<div>\n",
              "<style scoped>\n",
              "    .dataframe tbody tr th:only-of-type {\n",
              "        vertical-align: middle;\n",
              "    }\n",
              "\n",
              "    .dataframe tbody tr th {\n",
              "        vertical-align: top;\n",
              "    }\n",
              "\n",
              "    .dataframe thead th {\n",
              "        text-align: right;\n",
              "    }\n",
              "</style>\n",
              "<table border=\"1\" class=\"dataframe\">\n",
              "  <thead>\n",
              "    <tr style=\"text-align: right;\">\n",
              "      <th></th>\n",
              "      <th>y_pred</th>\n",
              "      <th>y_test</th>\n",
              "    </tr>\n",
              "  </thead>\n",
              "  <tbody>\n",
              "    <tr>\n",
              "      <th>0</th>\n",
              "      <td>0.610878</td>\n",
              "      <td>1</td>\n",
              "    </tr>\n",
              "    <tr>\n",
              "      <th>1</th>\n",
              "      <td>0.941457</td>\n",
              "      <td>1</td>\n",
              "    </tr>\n",
              "    <tr>\n",
              "      <th>2</th>\n",
              "      <td>0.960143</td>\n",
              "      <td>1</td>\n",
              "    </tr>\n",
              "    <tr>\n",
              "      <th>3</th>\n",
              "      <td>0.994573</td>\n",
              "      <td>1</td>\n",
              "    </tr>\n",
              "    <tr>\n",
              "      <th>4</th>\n",
              "      <td>0.526911</td>\n",
              "      <td>1</td>\n",
              "    </tr>\n",
              "    <tr>\n",
              "      <th>5</th>\n",
              "      <td>0.817536</td>\n",
              "      <td>1</td>\n",
              "    </tr>\n",
              "    <tr>\n",
              "      <th>6</th>\n",
              "      <td>0.953124</td>\n",
              "      <td>1</td>\n",
              "    </tr>\n",
              "    <tr>\n",
              "      <th>7</th>\n",
              "      <td>0.902271</td>\n",
              "      <td>1</td>\n",
              "    </tr>\n",
              "    <tr>\n",
              "      <th>8</th>\n",
              "      <td>0.913781</td>\n",
              "      <td>1</td>\n",
              "    </tr>\n",
              "    <tr>\n",
              "      <th>9</th>\n",
              "      <td>0.958907</td>\n",
              "      <td>1</td>\n",
              "    </tr>\n",
              "  </tbody>\n",
              "</table>\n",
              "</div>"
            ],
            "text/plain": [
              "     y_pred  y_test\n",
              "0  0.610878       1\n",
              "1  0.941457       1\n",
              "2  0.960143       1\n",
              "3  0.994573       1\n",
              "4  0.526911       1\n",
              "5  0.817536       1\n",
              "6  0.953124       1\n",
              "7  0.902271       1\n",
              "8  0.913781       1\n",
              "9  0.958907       1"
            ]
          },
          "metadata": {
            "tags": []
          },
          "execution_count": 25
        }
      ]
    },
    {
      "cell_type": "markdown",
      "metadata": {
        "id": "-2_WWjdUqXVX",
        "colab_type": "text"
      },
      "source": [
        "The first column is the index of the X-rays (here we only showed cases 0 to 9).\n",
        "\n",
        "The **y_pred** column contains the predicted scores from our neural network for each X-ray.\n",
        "\n",
        "The **y_test** column contains the grount truth for this test set, annotated by a radiologist.\n",
        "\n",
        "Let's pick up a **threshold** of 0.5 and calculate how many right and wrong cases we have."
      ]
    },
    {
      "cell_type": "code",
      "metadata": {
        "id": "VSzQQ2rarjf1",
        "colab_type": "code",
        "colab": {
          "base_uri": "https://localhost:8080/",
          "height": 85
        },
        "outputId": "579436a0-08bc-4862-a6b9-16d638e5c0ae"
      },
      "source": [
        "# Cell 4\n",
        "\n",
        "threshold = 0.5\n",
        "\n",
        "# How many cases the model said pneumonia (score > threshold) and the ground truth was pneumonia (1)\n",
        "\n",
        "true_positives = ((df.y_pred > threshold) & (df.y_test == 1)).sum()\n",
        "\n",
        "# How many cases the model said pneumonia (score > threshold) but the ground truth was normal (0)\n",
        "\n",
        "false_positives = ((df.y_pred > threshold) & (df.y_test == 0)).sum()\n",
        "\n",
        "# How many cases the model said normal (score <= threshold) and the ground truth was normal (0)\n",
        "\n",
        "true_negatives = ((df.y_pred <= threshold) & (df.y_test == 0)).sum()\n",
        "\n",
        "# How many cases the model said normal (score <= threshold) but the ground truth was pneumonia (1)\n",
        "\n",
        "false_negatives = ((df.y_pred <= threshold) & (df.y_test == 1)).sum()\n",
        "\n",
        "# Now let's print these values\n",
        "\n",
        "print(\"True positives: \" + str(true_positives))\n",
        "print(\"False positives: \" + str(false_positives))\n",
        "print(\"True negatives: \" + str(true_negatives))\n",
        "print(\"False negatives: \" + str(false_negatives))"
      ],
      "execution_count": null,
      "outputs": [
        {
          "output_type": "stream",
          "text": [
            "True positives: 189\n",
            "False positives: 247\n",
            "True negatives: 9753\n",
            "False negatives: 11\n"
          ],
          "name": "stdout"
        }
      ]
    },
    {
      "cell_type": "code",
      "metadata": {
        "id": "-GVkvJs3v-LN",
        "colab_type": "code",
        "colab": {
          "base_uri": "https://localhost:8080/",
          "height": 577
        },
        "outputId": "bfe6d0c2-b33f-4d1f-ffce-096e19d30371"
      },
      "source": [
        "# Cell 5\n",
        "\n",
        "# There is a nicer way to see these values. We call it confusion matrix.\n",
        "# Don't worry about this name. The idea is that it should make things less confusing\n",
        "\n",
        "# We will plot a 2 x 2 table where the rows represent the ground truth\n",
        "# and the columns represent the predictions\n",
        "\n",
        "cm = np.array([[true_positives, false_negatives],\n",
        "               [false_positives, true_negatives]])\n",
        "\n",
        "\n",
        "# This is the definition of a function to plot the confusion matrix\n",
        "def plot_confusion_matrix(cm, classes,\n",
        "                          normalize=False,\n",
        "                          title=None,\n",
        "                          cmap=plt.cm.Blues):\n",
        "    \"\"\"\n",
        "    This function prints and plots the confusion matrix.\n",
        "    Normalization can be applied by setting `normalize=True`.\n",
        "    \"\"\"\n",
        "    if not title:\n",
        "        if normalize:\n",
        "            title = 'Normalized confusion matrix'\n",
        "        else:\n",
        "            title = 'Confusion matrix, without normalization'\n",
        "\n",
        "    if normalize:\n",
        "        cm = cm.astype('float') / cm.sum(axis=1)[:, np.newaxis]\n",
        "\n",
        "    fig, ax = plt.subplots()\n",
        "    im = ax.imshow(cm, interpolation='nearest', cmap=cmap)\n",
        "    ax.figure.colorbar(im, ax=ax)\n",
        "    # We want to show all ticks...\n",
        "    ax.set(xticks=np.arange(cm.shape[1]),\n",
        "           yticks=np.arange(cm.shape[0]),\n",
        "           # ... and label them with the respective list entries\n",
        "           xticklabels=classes, yticklabels=classes,\n",
        "           title=title,\n",
        "           ylabel='True label',\n",
        "           xlabel='Predicted label')\n",
        "\n",
        "    # Rotate the tick labels and set their alignment.\n",
        "    plt.setp(ax.get_xticklabels(), rotation=45, ha=\"right\",\n",
        "             rotation_mode=\"anchor\")\n",
        "\n",
        "    # Loop over data dimensions and create text annotations.\n",
        "    fmt = '.2f' if normalize else 'd'\n",
        "    thresh = cm.max() / 2.\n",
        "    for i in range(cm.shape[0]):\n",
        "        for j in range(cm.shape[1]):\n",
        "            ax.text(j, i, format(cm[i, j], fmt),\n",
        "                    ha=\"center\", va=\"center\",\n",
        "                    color=\"white\" if cm[i, j] > thresh else \"black\")\n",
        "    fig.tight_layout()\n",
        "    \n",
        "    return ax\n",
        "\n",
        "\n",
        "np.set_printoptions(precision=2)\n",
        "\n",
        "# Plot non-normalized confusion matrix\n",
        "plot_confusion_matrix(cm, classes=['Pneumonia', 'Normal'],\n",
        "                      title='Confusion matrix, without normalization')\n",
        "\n",
        "# Plot normalized confusion matrix\n",
        "plot_confusion_matrix(cm, classes=['Pneumonia', 'Normal'], normalize=True,\n",
        "                      title='Normalized confusion matrix')\n",
        "\n",
        "plt.show()"
      ],
      "execution_count": null,
      "outputs": [
        {
          "output_type": "display_data",
          "data": {
            "image/png": "[encoded data removed]",
            "text/plain": [
              "<Figure size 432x288 with 2 Axes>"
            ]
          },
          "metadata": {
            "tags": [],
            "needs_background": "light"
          }
        },
        {
          "output_type": "display_data",
          "data": {
            "image/png": "[encoded data removed]",
            "text/plain": [
              "<Figure size 432x288 with 2 Axes>"
            ]
          },
          "metadata": {
            "tags": [],
            "needs_background": "light"
          }
        }
      ]
    },
    {
      "cell_type": "markdown",
      "metadata": {
        "id": "qzQmecwf-i45",
        "colab_type": "text"
      },
      "source": [
        "As stated before, the 2x2 tables shown above are confusion matrices.\n",
        "\n",
        "The first table (without normalization) shows the absolute number of true/false positive/negatives. The second table (normalized) shows relative values to ease interpretation. In this last case, the rows (ground truth) add up to 1.\n",
        "\n",
        "We can use the cells in the confusion matrix to calculate other metrics:\n",
        "\n",
        "\n",
        "*   Sensitivity (recall)\n",
        "*   Specificity\n",
        "*   False positive rate\n",
        "*   False negative rate\n",
        "*   Positive predictive value (precision)\n",
        "*   Negative predictive value\n",
        "*   Accuracy\n",
        "*   F1-score\n",
        "\n",
        "\n",
        "\n",
        "Let's deep dive into each one of them."
      ]
    },
    {
      "cell_type": "markdown",
      "metadata": {
        "id": "z0IM0ph8A9Yc",
        "colab_type": "text"
      },
      "source": [
        "### Sensitivity\n",
        "\n",
        "$Sensitivity = \\frac{True Positives}{True Positives + False Negatives}$"
      ]
    },
    {
      "cell_type": "code",
      "metadata": {
        "id": "SETJcK2tAMTc",
        "colab_type": "code",
        "colab": {
          "base_uri": "https://localhost:8080/",
          "height": 34
        },
        "outputId": "dbe9e7b1-2068-4596-bc85-d08988dd4caf"
      },
      "source": [
        "# Cell 6\n",
        "\n",
        "# Sensitivity, or recall, or true positive rate is the number of true positives over the total number of real positives (positives by the ground truth)\n",
        "\n",
        "sensitivity = true_positives / (true_positives + false_negatives)\n",
        "\n",
        "print(\"Sensitivity: \" + str(sensitivity))\n",
        "\n",
        "# Sensitivity means: from all positive cases, how many the algorithm was able to spot?\n",
        "\n",
        "# Sensitivity is dependent on the model performance and is not influenced by prevalence.\n",
        "\n",
        "# In our pneumonia algorithm, a high sensitivity means our model is able to find almost all pneumonia cases we have in our test set.\n",
        "\n",
        "# Clinically, we may want a high sensitivity model when the cost of missing a diagnosis is high (no room for undercalling)."
      ],
      "execution_count": null,
      "outputs": [
        {
          "output_type": "stream",
          "text": [
            "Sensitivity: 0.945\n"
          ],
          "name": "stdout"
        }
      ]
    },
    {
      "cell_type": "markdown",
      "metadata": {
        "id": "fm2ea7yVA_1_",
        "colab_type": "text"
      },
      "source": [
        "### Specificity\n",
        "\n",
        "$Specificity = \\frac{True Negatives}{True Negatives + False Positives}$"
      ]
    },
    {
      "cell_type": "code",
      "metadata": {
        "id": "OyZDiHYIBCNU",
        "colab_type": "code",
        "colab": {
          "base_uri": "https://localhost:8080/",
          "height": 34
        },
        "outputId": "85aa690b-d702-418a-f9c7-408c3dfb6cb8"
      },
      "source": [
        "# Cell 7\n",
        "# Specificity, or selectivity, true negative rate is the number of true negatives over the total number of real negatives (negatives by the ground truth)\n",
        "\n",
        "specificity = true_negatives / (true_negatives + false_positives)\n",
        "\n",
        "print(\"Specificity: \" + str(specificity))\n",
        "\n",
        "# Specificity means: from all negative cases, how many the algorithm was able to spot?\n",
        "\n",
        "# Specificity is dependent on the model performance and is not influenced by prevalence.\n",
        "\n",
        "# In our pneumonia algorithm, a high specificity means our model is able to find almost all normal cases we have in our test set.\n",
        "\n",
        "# Clinically, we may want a high specificity model when the cost of overcalling a diagnosis is high."
      ],
      "execution_count": null,
      "outputs": [
        {
          "output_type": "stream",
          "text": [
            "Specificity: 0.9753\n"
          ],
          "name": "stdout"
        }
      ]
    },
    {
      "cell_type": "markdown",
      "metadata": {
        "id": "no6OskE4B2FW",
        "colab_type": "text"
      },
      "source": [
        "### False positive rate\n",
        "\n",
        "$FPR = \\frac{False Positives}{True Negatives + False Positives} = 1 - Specificity$"
      ]
    },
    {
      "cell_type": "code",
      "metadata": {
        "id": "7X8z8PiUCaf-",
        "colab_type": "code",
        "colab": {
          "base_uri": "https://localhost:8080/",
          "height": 34
        },
        "outputId": "73b71758-d405-4d54-814e-31a3a0ad98d3"
      },
      "source": [
        "# Cell 8\n",
        "# False positive rate, or fall-out, or probability of false alarm is the number of false positives over the total of real negatives.\n",
        "# It's also related to Type I error (number of overcalls).\n",
        "\n",
        "fpr = false_positives / (true_negatives + false_positives)\n",
        "\n",
        "print(\"False Positive Rate: \" + str(fpr)) \n",
        "\n",
        "# FPR means: from all negative cases, how many the algorithm was not able to spot?\n",
        "# FPR is also equivalent to 1 - Specificity\n",
        "\n",
        "# FPR is dependent on the model performance and is not influenced by prevalence.\n",
        "\n",
        "# Clinically, we may want a low FPR  model (the same as high specificity) when the cost of overcalling a diagnosis is high."
      ],
      "execution_count": null,
      "outputs": [
        {
          "output_type": "stream",
          "text": [
            "False Positive Rate: 0.0247\n"
          ],
          "name": "stdout"
        }
      ]
    },
    {
      "cell_type": "markdown",
      "metadata": {
        "id": "9MRSWsk_DUBg",
        "colab_type": "text"
      },
      "source": [
        "### False negative rate\n",
        "\n",
        "$FNR = \\frac{False Negatives}{True Positives + False Negatives} = 1 - Sensitivity$"
      ]
    },
    {
      "cell_type": "code",
      "metadata": {
        "id": "A-Z9wqZZDXzd",
        "colab_type": "code",
        "colab": {
          "base_uri": "https://localhost:8080/",
          "height": 34
        },
        "outputId": "b11041cd-5f64-403a-ebad-1ba63e57bcd5"
      },
      "source": [
        "# Cell 9\n",
        "# False negative rate, or miss rate is the number of false negatives over the total of real negatives.\n",
        "# It's also related to Type II error (number of undercalls).\n",
        "\n",
        "fnr = false_negatives / (true_positives + false_negatives)\n",
        "\n",
        "print(\"False Negative Rate: \" + str(fnr)) \n",
        "\n",
        "# FNR means: from all positive cases, how many the algorithm was not able to spot?\n",
        "# FNR is also equivalent to 1 - Sensitivity\n",
        "\n",
        "# FNR is dependent on the model performance and is not influenced by prevalence.\n",
        "\n",
        "# Clinically, we may want a low FNR  model (the same as high sensitivity) when the cost of undercalling a diagnosis is high."
      ],
      "execution_count": null,
      "outputs": [
        {
          "output_type": "stream",
          "text": [
            "False Negative Rate: 0.055\n"
          ],
          "name": "stdout"
        }
      ]
    },
    {
      "cell_type": "markdown",
      "metadata": {
        "id": "9XkjwOnaUZHB",
        "colab_type": "text"
      },
      "source": [
        "### Positive predictive value\n",
        "\n",
        "$PPV = \\frac{True Positives}{True Positives + False Positives}$"
      ]
    },
    {
      "cell_type": "code",
      "metadata": {
        "id": "2EE9NbizUcc6",
        "colab_type": "code",
        "colab": {
          "base_uri": "https://localhost:8080/",
          "height": 34
        },
        "outputId": "65b82569-3853-4b3c-8da5-894f440b0a1a"
      },
      "source": [
        "# Cell 10\n",
        "# Positive predictive value, or precision is the number of true positives over the total of cases predicted as positive by the model.\n",
        "\n",
        "ppv = true_positives / (true_positives + false_positives)\n",
        "\n",
        "print(\"Positive Predictive Value: \" + str(ppv))    # a.k.a. precision\n",
        "\n",
        "# PPV or Precision means: from all cases the model predicted positive, how many are really positive?\n",
        "\n",
        "# Precision is dependent on both the model performance and prevalence\n",
        "\n",
        "# Clinically, precision may be the most visible metric for a radiologist using an AI system. \n",
        "# For each case the model predicts a pneumonia, precision is the probability it is right "
      ],
      "execution_count": null,
      "outputs": [
        {
          "output_type": "stream",
          "text": [
            "Positive Predictive Value: 0.4334862385321101\n"
          ],
          "name": "stdout"
        }
      ]
    },
    {
      "cell_type": "markdown",
      "metadata": {
        "id": "hLxMQjgXWnBS",
        "colab_type": "text"
      },
      "source": [
        "### Negative predictive value\n",
        "\n",
        "$NPV = \\frac{True Negatives}{True Negatives + False Negatives}$"
      ]
    },
    {
      "cell_type": "code",
      "metadata": {
        "id": "IxqdZgFUWpaX",
        "colab_type": "code",
        "colab": {
          "base_uri": "https://localhost:8080/",
          "height": 34
        },
        "outputId": "7bc783e5-d0f9-4ab8-e831-8b39c794f4bf"
      },
      "source": [
        "# Cell 11\n",
        "# Negative predictive value (NPV) is the number of true negatives over the total of cases predicted as negative by the model.\n",
        "\n",
        "npv = true_negatives / (true_negatives + false_negatives)\n",
        "\n",
        "print(\"Negative Predictive Value: \" + str(npv))\n",
        "\n",
        "# Negative predictive value means: from all cases the model predicted negative, how many are really negative?\n",
        "\n",
        "# Negative predictive value is dependent on both the model performance and prevalence\n",
        "\n",
        "# Clinically, NPV may also be quite a visible metric for a radiologist using an AI system. \n",
        "# For each case the model predicts normal, NPV is the probability it is right "
      ],
      "execution_count": null,
      "outputs": [
        {
          "output_type": "stream",
          "text": [
            "Negative Predictive Value: 0.9988734125358459\n"
          ],
          "name": "stdout"
        }
      ]
    },
    {
      "cell_type": "markdown",
      "metadata": {
        "id": "N5hQQgbeSwUi",
        "colab_type": "text"
      },
      "source": [
        "### Accuracy\n",
        "\n",
        "$Accuracy = \\frac{True Positives + True Negatives}{True Positives+False Negatives+True Negatives+FalsePositives}$"
      ]
    },
    {
      "cell_type": "code",
      "metadata": {
        "id": "3a7xBm0iSz4e",
        "colab_type": "code",
        "colab": {
          "base_uri": "https://localhost:8080/",
          "height": 34
        },
        "outputId": "2b5ee2d4-ce1e-4c3a-9c56-2797bb13a1b6"
      },
      "source": [
        "# Cell 12\n",
        "# Accuracy is the total of correct predictions over the total of cases\n",
        "\n",
        "accuracy = (true_positives + true_negatives) / (true_positives + false_negatives + true_negatives + false_positives)\n",
        "\n",
        "print(\"Accuracy: \" + str(accuracy))\n",
        "\n",
        "# Accuracy means: how many cases did the model predict correctly?\n",
        "\n",
        "# Accuracy is dependent on both the model performance and prevalence"
      ],
      "execution_count": null,
      "outputs": [
        {
          "output_type": "stream",
          "text": [
            "Accuracy: 0.9747058823529412\n"
          ],
          "name": "stdout"
        }
      ]
    },
    {
      "cell_type": "markdown",
      "metadata": {
        "id": "s0vNirv4FpQh",
        "colab_type": "text"
      },
      "source": [
        "**Important note:** accuracy is known to be unrealisticaly high in the case of imbalanced datasets (very low or very high prevalence). Thus, we should not trust in accuracy in these cases. F1-score and other metrics are more reliable in these scenarios."
      ]
    },
    {
      "cell_type": "markdown",
      "metadata": {
        "id": "fwjYM2vpTMIn",
        "colab_type": "text"
      },
      "source": [
        "### F1-score\n",
        "\n",
        "$F1 = \\frac{2True Positives}{2True Positives+FalsePositives+False Negatives} = 2\\frac{Precision*Recall}{Precision + Recall} = Dice$"
      ]
    },
    {
      "cell_type": "code",
      "metadata": {
        "id": "6nrOO31mTXp2",
        "colab_type": "code",
        "colab": {
          "base_uri": "https://localhost:8080/",
          "height": 34
        },
        "outputId": "b97098e9-37c4-4b93-8a58-8823bcd3f30a"
      },
      "source": [
        "# Cell 13\n",
        "# F1-score, or F-score, or F-measure is the harmonic mean of precision and recall (positive predictive value and sensitivity)\n",
        "\n",
        "f1 = 2 * true_positives / (2 * true_positives + false_positives + false_negatives)\n",
        "\n",
        "print(\"F1-score: \" + str(f1))\n",
        "\n",
        "# F1-score is also the same metric as the Dice similarity coefficient (Dice-Sorensen Coefficient).\n",
        "# In radiology AI examples, we usualy choose the name F1 when we are dealing in the image or study level,\n",
        "# while Dice is reserved for the pixel level. We'll detail Dice later on this notebook.\n",
        "\n",
        "# In a low prevalence setting, F1-score is preferred over accuracy.\n",
        "\n",
        "# F1-score is dependent on both the model performance and prevalence"
      ],
      "execution_count": null,
      "outputs": [
        {
          "output_type": "stream",
          "text": [
            "F1-score: 0.5943396226415094\n"
          ],
          "name": "stdout"
        }
      ]
    },
    {
      "cell_type": "markdown",
      "metadata": {
        "id": "Y3xb08Pxqv3Y",
        "colab_type": "text"
      },
      "source": [
        "All the metrics we've covered so far are **dependent** on the **chosen threshold**.\n",
        "\n",
        "The optimal threshold for one metric is not necessarily the optimal threshold for the other ones.\n",
        "\n",
        "For this reason, we must choose the metric we want to optimize to find the best threshold for that metric.\n",
        "\n",
        "Try out different thresholds to understand how it impacts the confusion matrix for our classifier and the metrics shown.\n"
      ]
    },
    {
      "cell_type": "code",
      "metadata": {
        "id": "0zzk6x7WwxCB",
        "colab_type": "code",
        "cellView": "both",
        "colab": {
          "base_uri": "https://localhost:8080/",
          "height": 81,
          "referenced_widgets": [
            "dd82623a6f574cfeb20c8d986183c743",
            "974469c92daf44f2a9478b67ef2e5361",
            "c69861a4054d4becaacc54980d30e3da",
            "5ae15e0ceac74392a1deff5b57a3e642",
            "79788d29c32047238626542905bf34e6",
            "aedf25e2690347b38ad129e7d58ed556",
            "f4c836f96afc443aa32ff2d5af379652",
            "9a50b638e88c444489a385878237e1ce"
          ]
        },
        "outputId": "c012fd9f-26ea-4d4a-8bd5-735660c46985"
      },
      "source": [
        "# Cell 14\n",
        "\n",
        "# Execute this cell once\n",
        "# Then updade the slider and click \"Calculate\" as many times you want.\n",
        "\n",
        "slider = widgets.IntSlider(value=50, min=0.0, max=100, step=1 )\n",
        "display(slider)\n",
        "\n",
        "button = widgets.Button(description=\"Calculate\")\n",
        "output = widgets.Output()\n",
        "\n",
        "def on_button_clicked(b):\n",
        "  # Display the message within the output widget.\n",
        "  with output:\n",
        "    clear_output()\n",
        "    threshold = slider.value / 100.\n",
        "    print(\"Threshold: \" + str(threshold))\n",
        "    true_positives = ((df.y_pred > threshold) & (df.y_test == 1)).sum()\n",
        "    false_positives = ((df.y_pred > threshold) & (df.y_test == 0)).sum()\n",
        "    true_negatives = ((df.y_pred <= threshold) & (df.y_test == 0)).sum()\n",
        "    false_negatives = ((df.y_pred <= threshold) & (df.y_test == 1)).sum()    \n",
        "    cm = np.array([[true_positives, false_negatives],\n",
        "                  [false_positives, true_negatives]])\n",
        "    \n",
        "    plot_confusion_matrix(cm, classes=['Pneumonia', 'Normal'], normalize=True,\n",
        "                      title='Normalized confusion matrix')\n",
        "    plt.show()\n",
        "\n",
        "    sensitivity = true_positives / (true_positives + false_negatives)\n",
        "    print(\"Sensitivity: \" + str(sensitivity))\n",
        "    specificity = true_negatives / (true_negatives + false_positives)\n",
        "    print(\"Specificity: \" + str(specificity))    \n",
        "    precision = true_positives / (true_positives + false_positives)\n",
        "    print(\"Precision: \" + str(precision)) \n",
        "    accuracy = (true_positives + true_negatives) / (true_positives + false_negatives + true_negatives + false_positives)\n",
        "    print(\"Accuracy: \" + str(accuracy))\n",
        "    f1 = 2 * true_positives / (2 * true_positives + false_positives + false_negatives)\n",
        "    print(\"F1-score: \" + str(f1))\n",
        "\n",
        "button.on_click(on_button_clicked)\n",
        "display(button, output)\n"
      ],
      "execution_count": null,
      "outputs": [
        {
          "output_type": "display_data",
          "data": {
            "application/vnd.jupyter.widget-view+json": {
              "model_id": "dd82623a6f574cfeb20c8d986183c743",
              "version_minor": 0,
              "version_major": 2
            },
            "text/plain": [
              "IntSlider(value=50)"
            ]
          },
          "metadata": {
            "tags": []
          }
        },
        {
          "output_type": "display_data",
          "data": {
            "application/vnd.jupyter.widget-view+json": {
              "model_id": "5ae15e0ceac74392a1deff5b57a3e642",
              "version_minor": 0,
              "version_major": 2
            },
            "text/plain": [
              "Button(description='Calculate', style=ButtonStyle())"
            ]
          },
          "metadata": {
            "tags": []
          }
        },
        {
          "output_type": "display_data",
          "data": {
            "application/vnd.jupyter.widget-view+json": {
              "model_id": "f4c836f96afc443aa32ff2d5af379652",
              "version_minor": 0,
              "version_major": 2
            },
            "text/plain": [
              "Output()"
            ]
          },
          "metadata": {
            "tags": []
          }
        }
      ]
    },
    {
      "cell_type": "markdown",
      "metadata": {
        "id": "U9zMOb_AsuMc",
        "colab_type": "text"
      },
      "source": [
        "In this next cell, we will plot each metric as a function of the threshold to see how each of them behave."
      ]
    },
    {
      "cell_type": "code",
      "metadata": {
        "id": "RzpKUrzpU5Lj",
        "colab_type": "code",
        "colab": {
          "base_uri": "https://localhost:8080/",
          "height": 447
        },
        "outputId": "1c08af84-d22e-4f85-954d-d0cc40e8da4f"
      },
      "source": [
        "# Cell 15\n",
        "\n",
        "tp, tn, fp, fn = [], [], [], []\n",
        "sens, spec, acc, f1, prec = [], [], [], [], []\n",
        "th = []\n",
        "\n",
        "for threshold in range(100):\n",
        "    threshold/=100\n",
        "    tp.append( ((df.y_pred > threshold) & (df.y_test == 1)).sum())\n",
        "    fp.append( ((df.y_pred > threshold) & (df.y_test == 0)).sum())\n",
        "    tn.append( ((df.y_pred <= threshold) & (df.y_test == 0)).sum())\n",
        "    fn.append( ((df.y_pred <= threshold) & (df.y_test == 1)).sum())\n",
        "    sens.append(tp[-1] / (tp[-1] + fn[-1]))\n",
        "    spec.append(tn[-1] / (tn[-1] + fp[-1]))\n",
        "    acc.append((tp[-1] + tn[-1]) / (tp[-1] + tn[-1] + fp[-1] + fn[-1]))\n",
        "    f1.append((2 * tp[-1]) / (2 * tp[-1] + fn[-1] + fp[-1]))\n",
        "    if (tp[-1] + fp[-1]) == 0:\n",
        "        prec.append(1e+6)  # avoid divide by 0 error\n",
        "    else:\n",
        "        prec.append(tp[-1] / (tp[-1] + fp[-1]))\n",
        "    th.append(threshold)\n",
        "\n",
        "sens = np.array(sens)\n",
        "spec = np.array(spec)\n",
        "prec = np.array(prec)\n",
        "th = np.array(th)\n",
        "\n",
        "plt.figure(figsize=(10,7))\n",
        "plt.plot(th, sens, ls='-.')\n",
        "plt.plot(th, spec, ls='--')\n",
        "plt.plot(th, acc, ls='-')\n",
        "plt.plot(th, f1, ls=':')\n",
        "plt.legend(['Sensitivity', 'Specificity', 'Accuracy', 'F1-score'], fontsize=12)\n",
        "plt.xlabel('Threshold', size=15)\n",
        "plt.ylabel('Metric', size=15)\n",
        "plt.show()"
      ],
      "execution_count": null,
      "outputs": [
        {
          "output_type": "display_data",
          "data": {
            "image/png": "[encoded data removed]",
            "text/plain": [
              "<Figure size 720x504 with 1 Axes>"
            ]
          },
          "metadata": {
            "tags": [],
            "needs_background": "light"
          }
        }
      ]
    },
    {
      "cell_type": "markdown",
      "metadata": {
        "id": "cmWT-gnVtNCw",
        "colab_type": "text"
      },
      "source": [
        "As we increase the threshold, sensitivity decreases and specificity increases.\n",
        "\n",
        "Accuracy and F1-score have optimal values in the middle-range for our model, though the drop in accuracy is small because there are very few cases of pneumonia--even when we call all cases normal, our accuracy remains high.\n",
        "\n",
        "Of note, the shape of these curves may vary depending on the model and dataset."
      ]
    },
    {
      "cell_type": "markdown",
      "metadata": {
        "id": "XEL9jaV5uDpd",
        "colab_type": "text"
      },
      "source": [
        "There are two other important metrics we haven't covered so far: ROC curve and PR curve, with their respective areas under the curve."
      ]
    },
    {
      "cell_type": "code",
      "metadata": {
        "id": "N619MMok6_2R",
        "colab_type": "code",
        "colab": {}
      },
      "source": [
        ""
      ],
      "execution_count": null,
      "outputs": []
    },
    {
      "cell_type": "markdown",
      "metadata": {
        "id": "tz0QRPi9zLz1",
        "colab_type": "text"
      },
      "source": [
        "### Receiver Operator Characteristic (ROC) curve\n",
        "\n",
        "\n",
        "The ROC curve is a plot of the discriminatory ability of a binary test across all threshold range (from 0 to 1).\n",
        "\n",
        "The **Y axis** is the **Sensitivity**, or true positive rate, and relates to the Power of the model.\n",
        "\n",
        "The **X axis** is **1 - Specificity**, or the false positive rate, and relates to the Type I error.\n",
        "\n",
        "The Area Under the ROC Curve (**AUCROC**) is independent of the prevalence and independent of the threshold. It summarizes the discriminatory ability of a model.\n",
        "\n",
        "If we randomly draw one positive case and one negative case from our testset, the probability that the score of the positive case will be greater than the score of the negative case is the **AUCROC**.\n",
        "\n",
        "Try out to change the threshold and see that it defines a point in the ROC curve, but it doesn't change the curve itself, nor the area under it."
      ]
    },
    {
      "cell_type": "code",
      "metadata": {
        "id": "y6pavY0Izjgy",
        "colab_type": "code",
        "colab": {
          "base_uri": "https://localhost:8080/",
          "height": 81,
          "referenced_widgets": [
            "5d8c42fff75b40419456b89a588a5224",
            "fac0e8470bd6400199a92a33e748222e",
            "b4b50b835fc1410f9351e207fa98c84f",
            "9ae99067b90940d887f54a9e76e1f7f2",
            "149e1b012c6c4fcb94a21e1365d13b40",
            "3ede42aa7177408ab47e3c3dabad08d0",
            "e3adbe35ed174475826fc9f563b37a5c",
            "6d9054e5b7034b219da2835b4cf122e2"
          ]
        },
        "outputId": "c537e78a-705f-4723-fbbe-573b597a036a"
      },
      "source": [
        "# Cell 16\n",
        "\n",
        "slider = widgets.IntSlider(value=50, min=0.0, max=100, step=1 )\n",
        "display(slider)\n",
        "\n",
        "button = widgets.Button(description=\"Calculate\")\n",
        "output = widgets.Output()\n",
        "\n",
        "def on_button_clicked(b):\n",
        "  # Display the message within the output widget.\n",
        "  with output:\n",
        "    clear_output()\n",
        "    threshold = slider.value / 100.\n",
        "    ind = abs(th - threshold).argmin()\n",
        "    roc_auc = auc(1 - spec, sens)\n",
        "\n",
        "    plt.figure(figsize=(10, 7))\n",
        "    lw = 2\n",
        "    plt.plot(1 - spec, sens, color='darkorange',\n",
        "            lw=lw, label='ROC curve (area = %0.2f)' % roc_auc )\n",
        "    plt.plot([0, 1], [0, 1], color='navy', lw=lw, linestyle='--')\n",
        "    plt.plot(1 - spec[ind], sens[ind], 'go--', linewidth=2, markersize=12)\n",
        "    plt.xlim([-0.01, 1.0])\n",
        "    plt.ylim([0.0, 1.01])\n",
        "    plt.xlabel('False Positive Rate', size=13)\n",
        "    plt.ylabel('True Positive Rate', size=13)\n",
        "    plt.title('Receiver operating characteristic curve', size=15)\n",
        "    plt.legend(loc=\"lower right\")\n",
        "    plt.show()\n",
        "    print(\"Sensitivity, or True Positive Rate, or recall: \" + str(sens[ind]))\n",
        "    print(\"Specificity, or 1 - False Positive Rate: \" + str(spec[ind]))  \n",
        "\n",
        "button.on_click(on_button_clicked)\n",
        "display(button, output)"
      ],
      "execution_count": null,
      "outputs": [
        {
          "output_type": "display_data",
          "data": {
            "application/vnd.jupyter.widget-view+json": {
              "model_id": "5d8c42fff75b40419456b89a588a5224",
              "version_minor": 0,
              "version_major": 2
            },
            "text/plain": [
              "IntSlider(value=50)"
            ]
          },
          "metadata": {
            "tags": []
          }
        },
        {
          "output_type": "display_data",
          "data": {
            "application/vnd.jupyter.widget-view+json": {
              "model_id": "9ae99067b90940d887f54a9e76e1f7f2",
              "version_minor": 0,
              "version_major": 2
            },
            "text/plain": [
              "Button(description='Calculate', style=ButtonStyle())"
            ]
          },
          "metadata": {
            "tags": []
          }
        },
        {
          "output_type": "display_data",
          "data": {
            "application/vnd.jupyter.widget-view+json": {
              "model_id": "e3adbe35ed174475826fc9f563b37a5c",
              "version_minor": 0,
              "version_major": 2
            },
            "text/plain": [
              "Output()"
            ]
          },
          "metadata": {
            "tags": []
          }
        }
      ]
    },
    {
      "cell_type": "markdown",
      "metadata": {
        "id": "EcrO46hE-SWa",
        "colab_type": "text"
      },
      "source": [
        "The ROC curve is all about the trade-off between sensitivity and specificity.\n",
        "\n",
        "Depending on the clinical use-case, sensitivity can be more important than specificity, or vice-versa. \n",
        "\n",
        "If both false positive rate and false negative rate are equaly not desired, the **Youden's J statistic** can be used to choose the best operating point in the ROC curve.\n",
        "\n",
        "The **Youden's J statistic** is defined as **sensitivity + specificity - 1**"
      ]
    },
    {
      "cell_type": "markdown",
      "metadata": {
        "id": "dW7z38wW-4JY",
        "colab_type": "text"
      },
      "source": [
        "### Precision-Recall (PR) curve\n",
        "\n",
        "As the name suggests, the Precision-Recall curve shows the trade-off between precision (positive predictive value) and recall (sensitivity).\n",
        "\n",
        "As precision is dependent on the prevalence, the PR curve depends on the prevalence.\n",
        "\n",
        "Like the area under the ROC curve, the area under the PR curve doesn't depend on the threshold.\n",
        "\n",
        "However, each threshold defines a point in the PR curve. "
      ]
    },
    {
      "cell_type": "code",
      "metadata": {
        "id": "sbVnpQXbAojk",
        "colab_type": "code",
        "colab": {
          "base_uri": "https://localhost:8080/",
          "height": 81,
          "referenced_widgets": [
            "a956aac94c32495da88fbc2876d7a323",
            "8bbb9cc4e6294db6b2936d2094926461",
            "3300c3fa4d50473ea520e2d7d01db2b6",
            "13656dbf1c634caca1a1c0bdeb790470",
            "1e549493db064fd5ab730e1aaaf8af7f",
            "0cfac2967b1b450696f4dea9aa5f0b77",
            "bc8682eca5ad41809e993cb92fc42e92",
            "0e4f8695536e493c9a3b598f8dfd4e4a"
          ]
        },
        "outputId": "11dd438a-9efd-429d-a006-aa85b8e506a3"
      },
      "source": [
        "# Cell 17\n",
        "\n",
        "slider = widgets.IntSlider(value=50, min=0.0, max=100, step=1 )\n",
        "display(slider)\n",
        "\n",
        "button = widgets.Button(description=\"Calculate\")\n",
        "output = widgets.Output()\n",
        "\n",
        "def on_button_clicked(b):\n",
        "  # Display the message within the output widget.\n",
        "  with output:\n",
        "    clear_output()\n",
        "    threshold = slider.value / 100.\n",
        "    ind = abs(th - threshold).argmin()\n",
        "    roc_auc = average_precision_score( df.y_test, df.y_pred)\n",
        "\n",
        "    plt.figure(figsize=(10, 7))\n",
        "    lw = 2\n",
        "    plt.plot(sens, prec, color='darkorange',\n",
        "            lw=lw, label='PR curve (area = %0.2f)' % roc_auc )\n",
        "    plt.plot(sens[ind], prec[ind], 'go--', linewidth=2, markersize=12)\n",
        "    plt.xlim([0.0, 1.01])\n",
        "    plt.ylim([0.0, 1.01])\n",
        "    plt.xlabel('Recall', size=13)\n",
        "    plt.ylabel('Precision', size=13)\n",
        "    plt.title('Precision-Recall curve', size=15)\n",
        "    plt.legend(loc=\"lower right\")\n",
        "    plt.show()\n",
        "    print(\"Sensitivity, or True Positive Rate, or recall: \" + str(sens[ind]))\n",
        "    print(\"Precision, or Positive Predictive Value: \" + str(prec[ind]))\n",
        "    print(\"F1-score: \" + str(f1[ind]))  \n",
        "\n",
        "button.on_click(on_button_clicked)\n",
        "display(button, output)"
      ],
      "execution_count": null,
      "outputs": [
        {
          "output_type": "display_data",
          "data": {
            "application/vnd.jupyter.widget-view+json": {
              "model_id": "a956aac94c32495da88fbc2876d7a323",
              "version_minor": 0,
              "version_major": 2
            },
            "text/plain": [
              "IntSlider(value=50)"
            ]
          },
          "metadata": {
            "tags": []
          }
        },
        {
          "output_type": "display_data",
          "data": {
            "application/vnd.jupyter.widget-view+json": {
              "model_id": "13656dbf1c634caca1a1c0bdeb790470",
              "version_minor": 0,
              "version_major": 2
            },
            "text/plain": [
              "Button(description='Calculate', style=ButtonStyle())"
            ]
          },
          "metadata": {
            "tags": []
          }
        },
        {
          "output_type": "display_data",
          "data": {
            "application/vnd.jupyter.widget-view+json": {
              "model_id": "bc8682eca5ad41809e993cb92fc42e92",
              "version_minor": 0,
              "version_major": 2
            },
            "text/plain": [
              "Output()"
            ]
          },
          "metadata": {
            "tags": []
          }
        }
      ]
    },
    {
      "cell_type": "markdown",
      "metadata": {
        "id": "uQwTVuxf1Tk2",
        "colab_type": "text"
      },
      "source": [
        "### A note on **multiclass and multilabel** classifiers:\n",
        "\n",
        "Almost all binary classification metrics apply to multiclass and multilabel setting.\n",
        "\n",
        "However, there are multiple ways of calculating each of the binary metrics as multiclass of multilabel. Let's dive into two main examples:\n",
        "\n",
        "#### **a. For metrics like recall, precision, accuracy...**\n",
        "\n",
        "These metrics can be averaged in 4 different ways:\n",
        "1.   **Micro:** counts the total number of true and false positives and negative, and calculates the metrics globally.\n",
        "2.   **Macro:** simple mean of the metric calculated separately for each label. Is not influenced by prevalence.\n",
        "3.   **Weighted:** similar to macro, but the mean is weighted by each respective class frequency.\n",
        "4.   **Samples:** the metric is calculated for the instance level and then averaged.\n"
      ]
    },
    {
      "cell_type": "code",
      "metadata": {
        "id": "PqmWap_hj59Q",
        "colab_type": "code",
        "colab": {
          "base_uri": "https://localhost:8080/",
          "height": 374
        },
        "outputId": "60b4baba-339b-4c5c-b0c0-e24522f239de"
      },
      "source": [
        "# Cell 18\n",
        "\n",
        "# In this cell we will demonstrate de difference between F1-score MICRO and F1-score MACRO\n",
        "\n",
        "# First, we will open this scores_multiclass.csv file and view some of it's content\n",
        "\n",
        "# This file contains the predictions of a model that classifies an X-ray into \n",
        "# normal (class 0), or pneumothorax (class 1) or pneumonia (class 2).\n",
        "\n",
        "df2 = pd.read_csv('scores_multiclass.csv')\n",
        "\n",
        "print(\"Total number of rows (inferences on X-rays): \" + str(len(df2)))\n",
        "print(\"We see the first 10 cases in this table. \\n\")\n",
        "\n",
        "print(df2.head(10))\n",
        "\n",
        "print(\"\\nClass 0 means normal chest X-ray. We have \" + str(len(df2[df2['y_test'] == 0])) + \" cases in this class, but only \" \\\n",
        "      + str(len(df2[(df2['y_test'] == 0) & (df2['y_pred'] == 0)])) + \" of them were predicted as normal.\")\n",
        "print(\"Class 1 means pneumothorax. We have \" + str(len(df2[df2['y_test'] == 1])) + \" cases in this class, but only \" \\\n",
        "      + str(len(df2[(df2['y_test'] ==1) & (df2['y_pred'] == 1)])) + \" of them were predicted as pneumothorax.\")\n",
        "print(\"Class 2 means pneumonia. We have \" + str(len(df2[df2['y_test'] == 2])) + \" cases in this class, but only \" \\\n",
        "      + str(len(df2[(df2['y_test'] == 2) & (df2['y_pred'] == 2)])) + \" of them were predicted as pneumonia. \\n\")\n",
        "\n",
        "# Now we calculate F1-micro and F1-macro.\n",
        "\n",
        "F1_micro = f1_score(df2.y_test, df2.y_pred, average='micro') # average='micro' is where we set the way to calculate\n",
        "F1_macro = f1_score(df2.y_test, df2.y_pred, average='macro') # average='macro' is where we set the way to calculate\n",
        "\n",
        "\n",
        "print(\"F1-micro is \" + str(F1_micro))\n",
        "print(\"F1-macro is \" + str(F1_macro))"
      ],
      "execution_count": null,
      "outputs": [
        {
          "output_type": "stream",
          "text": [
            "Total number of rows (inferences on X-rays): 149\n",
            "We see the first 10 cases in this table. \n",
            "\n",
            "   y_pred  y_test\n",
            "0       0       0\n",
            "1       2       2\n",
            "2       0       1\n",
            "3       1       1\n",
            "4       0       2\n",
            "5       0       0\n",
            "6       1       0\n",
            "7       0       0\n",
            "8       0       0\n",
            "9       0       0\n",
            "\n",
            "Class 0 means normal chest X-ray. We have 99 cases in this class, but only 90 of them were predicted as normal.\n",
            "Class 1 means pneumothorax. We have 10 cases in this class, but only 6 of them were predicted as pneumothorax.\n",
            "Class 2 means pneumonia. We have 40 cases in this class, but only 28 of them were predicted as pneumonia. \n",
            "\n",
            "F1-micro is 0.8322147651006712\n",
            "F1-macro is 0.7463698993110758\n"
          ],
          "name": "stdout"
        }
      ]
    },
    {
      "cell_type": "markdown",
      "metadata": {
        "id": "693oQCbEtYKf",
        "colab_type": "text"
      },
      "source": [
        "If the **more prevalent classes (normal in our example) are more important**, the we should choose **F1-micro**. If we want to give the **same importance to all classes**, then we should choose **F1-macro**.\n",
        "\n",
        "In our example, there was a drop in the metric when calculating it as macro. This happened because the less frequent classes (pneumothorax and pneumonia) had worse individual F1-scores. As they are less frequent, they did not impact so much F1-micro. However, as F1-macro gives the same importance to all classes (regardless of class frequency), it shows a bigger drop in performance."
      ]
    },
    {
      "cell_type": "markdown",
      "metadata": {
        "id": "nTGs9JT0qc0Y",
        "colab_type": "text"
      },
      "source": [
        "#### **b. For AUCROC**\n",
        "\n",
        "We must define the way to average as in item a. However, we must also specify the way we calculate AUCROC:\n",
        "\n",
        "\n",
        "1.   **One-vs-one:** computes the AUCROC for all pairwise combinations of classes and average them.\n",
        "2.   **One-vs-rest:** computes the AUCROC for each class versus the rest and average them."
      ]
    },
    {
      "cell_type": "code",
      "metadata": {
        "id": "KYoSQe69riD_",
        "colab_type": "code",
        "colab": {
          "base_uri": "https://localhost:8080/",
          "height": 34
        },
        "outputId": "998e995d-ca26-4f05-d6d6-6499da38bbc7"
      },
      "source": [
        "# Cell 19\n",
        "\n",
        "# Here we calculate AUCROC as \"One-vs-rest\" with a macro average for\n",
        "# the same 3-class example we did for F1.\n",
        "\n",
        "# Multiclass AUCROC calculation need the predictions in the onehot format.\n",
        "# Onehot representantion is a vector of zeros, with the number 1 in only one \n",
        "# position of the vector.\n",
        "\n",
        "# The onehot encoding for 0 is [1, 0, 0]\n",
        "# The onehot encoding for 1 is [0, 1, 0]\n",
        "# The onehot encoding for 2 is [0, 0, 1]\n",
        "\n",
        "eye = np.identity(3) # This creates an identity matrix of size 3x3\n",
        "# Each line of this matrix is the onehot representation of the index of that line\n",
        "\n",
        "onehot_y_pred = [] \n",
        "\n",
        "for _pred in df2.y_pred:\n",
        "    onehot_y_pred.append(eye[_pred]) # Here we recursively map each prediction to it's onehot representation\n",
        "\n",
        "# Then we use both the ground truth (y_test) and onehot predictions (onehot_y_pred) to calculate the AUCROC\n",
        "\n",
        "AUCROC_1_vs_rest_macro = roc_auc_score(df2.y_test, onehot_y_pred, multi_class=\"ovr\", average=\"macro\")\n",
        "# 'ovr' means one-vs-rest. This could be changed to 'ovo' to calculate one-vs-one\n",
        "\n",
        "print(\"Multiclass AUCROC One vs rest with macro average: \" + str(AUCROC_1_vs_rest_macro))"
      ],
      "execution_count": null,
      "outputs": [
        {
          "output_type": "stream",
          "text": [
            "Multiclass AUCROC One vs rest with macro average: 0.8042113431856683\n"
          ],
          "name": "stdout"
        }
      ]
    },
    {
      "cell_type": "markdown",
      "metadata": {
        "id": "UkfJHhZjj3ih",
        "colab_type": "text"
      },
      "source": [
        "#### **Additional information: Cohen's Kappa**: this metric is usually used to calculate inter and intra-rater variability for both binary and multiclass problems. It can be calculated in three ways:\n",
        "1.   **None:** computes kappa with no weights, a good choice for categorical variables.\n",
        "2.   **Linear:** computes kappa with linear weights, a good choice for ordinal variables.\n",
        "2.   **Quadratic:** computes kappa with quadratic weights, a good choice for ordinal variables."
      ]
    },
    {
      "cell_type": "code",
      "metadata": {
        "id": "IDqKPlzej5TX",
        "colab_type": "code",
        "colab": {
          "base_uri": "https://localhost:8080/",
          "height": 34
        },
        "outputId": "d6c84db4-d8cd-4c0e-d9f6-b69ef6365109"
      },
      "source": [
        "# Cell 20\n",
        "\n",
        "# Now we will show how to calculate Cohen's Kappa Score for the \n",
        "# same 3-class example we did for F1.\n",
        "\n",
        "kappa = cohen_kappa_score(df2.y_test, df2.y_pred, weights=None)\n",
        "\n",
        "# To calculate linear or quadratic kappa, replace None with 'linear' or 'quadratic'\n",
        "# Remember they make more sense in the setting of ordinal variables.\n",
        "\n",
        "print(\"Cohen's Kappa Score: \" + str(kappa))"
      ],
      "execution_count": null,
      "outputs": [
        {
          "output_type": "stream",
          "text": [
            "Cohen's Kappa Score: 0.6399574714865648\n"
          ],
          "name": "stdout"
        }
      ]
    },
    {
      "cell_type": "markdown",
      "metadata": {
        "id": "07BXPFekHP9n",
        "colab_type": "text"
      },
      "source": [
        "### Calibration curve\n",
        "\n",
        "The model output can be considered a probability that the case on screen is 1 (pneumonia in our case). However, this probability may not be well calibrated, meaning it could be higher or lower than it should.\n",
        "\n",
        "To measure how well the output probabilities are calibrated, we will plot a curve that shows the prevalence of 1 (ground truth positive) as a function of the threshold.\n",
        "\n",
        "We should expect a linear correlation (x=y) in a perfectly calibrated model.\n",
        "\n",
        "A calibrated model may be required in some circumstances, but not always."
      ]
    },
    {
      "cell_type": "code",
      "metadata": {
        "id": "ZqqWOO3qI2Bo",
        "colab_type": "code",
        "colab": {
          "base_uri": "https://localhost:8080/",
          "height": 729
        },
        "outputId": "9c853e19-9530-4eea-abc3-48968dbd6627"
      },
      "source": [
        "# Cell 21\n",
        "# Plot calibration plot\n",
        "\n",
        "plt.figure(figsize=(10, 10))\n",
        "ax1 = plt.subplot2grid((4, 1), (0, 0), rowspan=2)\n",
        "ax2 = plt.subplot2grid((4, 1), (2, 0), rowspan=2)\n",
        "\n",
        "ax1.plot([0, 1], [0, 1], \"k:\", label=\"Perfectly calibrated\")\n",
        "for name in [('Model')]:\n",
        "\n",
        "    fraction_of_positives, mean_predicted_value = \\\n",
        "        calibration_curve(df.y_test, df.y_pred, n_bins=10, strategy='uniform')\n",
        "\n",
        "    ax1.plot(mean_predicted_value, fraction_of_positives, \"s-\",\n",
        "             label=\"%s\" % (name, ))\n",
        "\n",
        "    ax2.hist(df.y_pred[df.y_test == 1], range=(0, 1), bins=10, label=\"Pneumonia\",\n",
        "             histtype=\"step\", lw=2)\n",
        "    ax2.hist(df.y_pred[df.y_test == 0], range=(0, 1), bins=10, label=\"Normal\",\n",
        "             histtype=\"step\", lw=2)\n",
        "    \n",
        "ax1.set_ylabel(\"Fraction of positives\")\n",
        "ax1.set_ylim([-0.05, 1.05])\n",
        "ax1.legend(loc=\"lower right\")\n",
        "ax1.set_title('Calibration plots  (reliability curve)')\n",
        "\n",
        "ax2.set_xlabel(\"Mean predicted value\")\n",
        "ax2.set_ylabel(\"Count\")\n",
        "ax2.legend(loc=\"upper center\", ncol=2)\n",
        "\n",
        "plt.tight_layout()\n",
        "plt.show()"
      ],
      "execution_count": null,
      "outputs": [
        {
          "output_type": "display_data",
          "data": {
            "image/png": "[encoded data removed]",
            "text/plain": [
              "<Figure size 720x720 with 2 Axes>"
            ]
          },
          "metadata": {
            "tags": [],
            "needs_background": "light"
          }
        }
      ]
    },
    {
      "cell_type": "code",
      "metadata": {
        "id": "MV7CBNyPWzPa",
        "colab_type": "code",
        "colab": {
          "base_uri": "https://localhost:8080/",
          "height": 221
        },
        "outputId": "b46f49cf-c5f6-4893-99e0-1287ab60e98a"
      },
      "source": [
        "df.y_pred"
      ],
      "execution_count": null,
      "outputs": [
        {
          "output_type": "execute_result",
          "data": {
            "text/plain": [
              "0      0\n",
              "1      2\n",
              "2      0\n",
              "3      1\n",
              "4      0\n",
              "      ..\n",
              "144    2\n",
              "145    2\n",
              "146    2\n",
              "147    2\n",
              "148    2\n",
              "Name: y_pred, Length: 149, dtype: int64"
            ]
          },
          "metadata": {
            "tags": []
          },
          "execution_count": 22
        }
      ]
    },
    {
      "cell_type": "markdown",
      "metadata": {
        "id": "H22_XxRDtte1",
        "colab_type": "text"
      },
      "source": [
        "The Calibration plot shows that our model is not well calibrated.\n",
        "\n",
        "The lower part of the plot shows the distribution os scores for the positive (pneumonia) and the negative (normal) classes. It's clear there is a class imbalance (pneumonia cases are less frequent)."
      ]
    },
    {
      "cell_type": "markdown",
      "metadata": {
        "id": "DBZSJQmBo0zx",
        "colab_type": "text"
      },
      "source": [
        "# 2. Segmentation Metrics"
      ]
    },
    {
      "cell_type": "markdown",
      "metadata": {
        "id": "YtO8CGXLHyJX",
        "colab_type": "text"
      },
      "source": [
        "Segmentation is the denotation of parts of an image as parts of a specific structures--eg to trace the liver in a CT image. This task demands a different metric than what is used for classification. \n",
        "A popular metric for segmentation is the Dice-Sorensen Coefficient, which is computed as \n",
        "![alt text](https://wikimedia.org/api/rest_v1/media/math/render/svg/a80a97215e1afc0b222e604af1b2099dc9363d3b)\n",
        "where X is the 'truth' and Y is the 'predicted' segmentation. \n",
        "\n",
        "In the deep learning world, we do a slight modification of this, in which we add a small number to the denominator so that in the case where an image has no pixels in the object, and the algorithm correctly also has 0 pixels, we avoid a divide by 0 error. This was described in the prior Magcian's Corner article on segmentation.\n",
        "\n",
        "In this cell, we again define this modified dice_score, and also a dice_loss, which also is slightly different than a dice score, and which some refer to as a 'soft dice score'."
      ]
    },
    {
      "cell_type": "code",
      "metadata": {
        "id": "FrV5geMZo2lJ",
        "colab_type": "code",
        "colab": {}
      },
      "source": [
        "# Cell 22\n",
        "\n",
        "def dice_coeff(y_true, y_pred):\n",
        "    _epsilon = 10 ** -7\n",
        "    im1 = np.asarray(y_true).astype(np.bool)\n",
        "    im2 = np.asarray(y_pred).astype(np.bool)\n",
        "\n",
        "    if im1.shape != im2.shape:\n",
        "        raise ValueError(\"Shape mismatch: im1 and im2 must have the same shape.\")\n",
        "\n",
        "    # Compute Dice coefficient\n",
        "    intersection = np.logical_and(im1, im2)\n",
        "\n",
        "    return (2. * intersection.sum() + _epsilon) / (im1.sum() + im2.sum() + _epsilon)\n",
        "\n",
        "def dice_loss(y_true, y_pred):\n",
        "    loss = 1 - dice_coeff(y_true, y_pred)\n",
        "    return loss\n",
        "\n"
      ],
      "execution_count": null,
      "outputs": []
    },
    {
      "cell_type": "markdown",
      "metadata": {
        "id": "uc6jNungLsrC",
        "colab_type": "text"
      },
      "source": [
        "For training purposes, we will not do any segmentation, but will instead use defined images for truth and prediction so that we can easily see the impact of various conditions.\n",
        "In this case, we will use a function that will have 0's as background and 1's as foreground (object). The user may pass in the img_size, as well as the start and end x and y values. "
      ]
    },
    {
      "cell_type": "code",
      "metadata": {
        "id": "SUqRGeRzVgl9",
        "colab_type": "code",
        "colab": {
          "base_uri": "https://localhost:8080/",
          "height": 71
        },
        "outputId": "d95dcf85-6ba7-409a-9e8a-c15a6188d8e5"
      },
      "source": [
        "# Cell 23\n",
        "# Compute Hausdorf, which is the distance/error of one edge to another\n",
        "# code taken from: https://github.com/sapphire008/Python/blob/master/generic/HausdorffDistance.py\n",
        "\n",
        "from numpy.core.umath_tests import inner1d\n",
        "\n",
        "def HausdorffDist(A,B):\n",
        "    # The Hausdorff distance between A and B, denoted by dH(A,B),\n",
        "    # is defined by:\n",
        "    # dH(A,B) = max(h(A,B),h(B,A)),\n",
        "    # where h(A,B) = max(min(d(a,b))\n",
        "    # and d(a,b) is a L2 norm\n",
        "    # dist_H = hausdorff(A,B)\n",
        "    # See Edward DongBo Cui; Stanford University; 06/17/2014\n",
        "\n",
        "    # Find pairwise distance\n",
        "    D_mat = np.sqrt(inner1d(A,A)[np.newaxis].T + inner1d(B,B)-2*(np.dot(A,B.T)))\n",
        "    # Find DH\n",
        "    dH = np.max(np.array([np.max(np.min(D_mat,axis=0)),np.max(np.min(D_mat,axis=1))]))\n",
        "    return(dH)\n",
        "\n",
        "def ModHausdorffDist(A,B):\n",
        "    #This function computes the Modified Hausdorff Distance (MHD) which is\n",
        "    #proven to function better than the directed HD as per Dubuisson et al.\n",
        "    #in the following work:\n",
        "    #\n",
        "    #M. P. Dubuisson and A. K. Jain. A Modified Hausdorff distance for object\n",
        "    #matching. In ICPR94, pages A:566-568, Jerusalem, Israel, 1994.\n",
        "    #http://ieeexplore.ieee.org/xpls/abs_all.jsp?arnumber=576361\n",
        "    #\n",
        "    #The function computes the forward and reverse distances and outputs the\n",
        "    #maximum/minimum of both.\n",
        "    #Optionally, the function can return forward and reverse distance.\n",
        "\n",
        "    # Find pairwise distance\n",
        "    D_mat = np.sqrt(inner1d(A,A)[np.newaxis].T + inner1d(B,B)-2*(np.dot(A,B.T)))\n",
        "    # Calculating the forward HD: mean(min(each col))\n",
        "    FHD = np.mean(np.min(D_mat,axis=1))\n",
        "    # Calculating the reverse HD: mean(min(each row))\n",
        "    RHD = np.mean(np.min(D_mat,axis=0))\n",
        "    # Calculating mhd\n",
        "    MHD = np.max(np.array([FHD, RHD]))\n",
        "    return(MHD, FHD, RHD)"
      ],
      "execution_count": null,
      "outputs": [
        {
          "output_type": "stream",
          "text": [
            "/usr/local/lib/python3.6/dist-packages/ipykernel_launcher.py:5: DeprecationWarning: numpy.core.umath_tests is an internal NumPy module and should not be imported. It will be removed in a future NumPy release.\n",
            "  \"\"\"\n"
          ],
          "name": "stderr"
        }
      ]
    },
    {
      "cell_type": "code",
      "metadata": {
        "id": "hmQl0fm-MMVv",
        "colab_type": "code",
        "colab": {}
      },
      "source": [
        "# Cell #24\n",
        "\n",
        "def create_img(img_size = 100, start_x=25, start_y=25, end_x=75, end_y=75):\n",
        "    img = np.zeros((img_size, img_size), dtype = np.int16)\n",
        "    if start_x < 0:\n",
        "        start_x = 0\n",
        "    if start_y < 0:\n",
        "        start_y = 0\n",
        "    if end_x > img_size:\n",
        "        end_x = img_size\n",
        "    if end_y > img_size:\n",
        "        end_y = img_size\n",
        "    img[start_x:end_x + 1, start_y:end_y + 1] = 1\n",
        "    return img\n",
        "\n",
        "\n",
        "import matplotlib.pyplot as plt\n",
        "import matplotlib.image as mpimg\n",
        "\n",
        "def show_images (truth, prediction):\n",
        "    img = truth * 2 + prediction\n",
        "    imgplot = plt.imshow(img, interpolation=\"nearest\", cmap=\"hot\")\n",
        "    return"
      ],
      "execution_count": null,
      "outputs": []
    },
    {
      "cell_type": "code",
      "metadata": {
        "id": "ys6IEhn7NjoI",
        "colab_type": "code",
        "colab": {
          "base_uri": "https://localhost:8080/",
          "height": 305
        },
        "outputId": "977880e2-4e40-4961-d23f-0b1065333c7e"
      },
      "source": [
        "#Cell #25  Test some of the metrics\n",
        "\n",
        "SIZE = 100\n",
        "truth = create_img (img_size = SIZE, start_x=25, start_y = 25, end_x = 75, end_y = 75)\n",
        "pred = create_img (img_size = SIZE, start_x=25, start_y = 25, end_x = 78, end_y = 65)\n",
        "\n",
        "dsc = dice_coeff(truth, pred)\n",
        "loss = dice_loss (truth, pred)\n",
        "hd = HausdorffDist(truth, pred)\n",
        "mhd = ModHausdorffDist(truth, pred)\n",
        "show_images(truth, pred)\n",
        "print (\"DSC is \" + str(dsc) + \", loss is \" + str(loss) + \", Hausdorf = \" + str(hd) + \", Modified Hausdorf = \" + str(mhd))\n"
      ],
      "execution_count": null,
      "outputs": [
        {
          "output_type": "stream",
          "text": [
            "DSC is 0.8685358255479017, loss is 0.13146417445209835, Hausdorf = 3.1622776601683795, Modified Hausdorf = (1.7076299364909249, 1.6127616066858734, 1.7076299364909249)\n"
          ],
          "name": "stdout"
        },
        {
          "output_type": "display_data",
          "data": {
            "image/png": "[encoded data removed]",
            "text/plain": [
              "<Figure size 432x288 with 1 Axes>"
            ]
          },
          "metadata": {
            "tags": [],
            "needs_background": "light"
          }
        }
      ]
    },
    {
      "cell_type": "code",
      "metadata": {
        "id": "lKv1WiFs2hWO",
        "colab_type": "code",
        "colab": {
          "base_uri": "https://localhost:8080/",
          "height": 285
        },
        "outputId": "cb629b2e-43d0-4b51-dc67-12ecf69b60c0"
      },
      "source": [
        "#Cell #26\n",
        "\n",
        "# set truth to known values, just in case they get changed\n",
        "truth[:,:] = 0\n",
        "truth[25:76, 25:76] = 1\n",
        "\n",
        "pred[:,:] = 0  # set the prediction back to 0\n",
        "pred[25:76, 25:76] = 1 # this now matches the truth\n",
        "\n",
        "# Variation 1--draw a line perpendicular\n",
        "#pred[76:85, 35:36] = 1\n",
        "# DSC is 0.9982728842832801, loss is 0.001727115716719907, Hausdorf = 1.0, Modified Hausdorf = (0.09, 0.0, 0.09)\n",
        "\n",
        "# Variation 2--prediction is offset by 1 pixel\n",
        "#pred[:,:] = 0.  # set the prediction back to 0\n",
        "#pred[26:77, 26:77] = 1 # this now matches the truth\n",
        "# DSC is 0.9611687812387318, loss is 0.03883121876126816, Hausdorf = 1.4142135623730951, Modified Hausdorf = (0.7212489168102786, 0.7212489168102786, 0.7212489168102786)\n",
        "\n",
        "# Variation 3--same # pixels but rectangular, not square. prediction is still offset by 1 pixel\n",
        "#truth[:,:] = 0\n",
        "#truth[10:90, 45:55] = 1\n",
        "#pred[:,:] = 0.  # set the prediction back to 0\n",
        "#pred[11:91, 46:56] = 1 # this now matches the truth\n",
        "# DSC is 0.8887500000069531, loss is 0.11124999999304686, Hausdorf = 1.4142135623730951, Modified Hausdorf = (1.1313708498984765, 1.1313708498984765, 1.1313708498984765)\n",
        "\n",
        "dsc = dice_coeff(truth, pred)\n",
        "loss = dice_loss (truth, pred)\n",
        "hd = HausdorffDist(truth, pred)\n",
        "mhd = ModHausdorffDist(truth, pred)\n",
        "show_images(truth, pred)\n",
        "print (\"DSC is \" + str(dsc) + \", loss is \" + str(loss) + \", Hausdorf = \" + str(hd) + \", Modified Hausdorf = \" + str(mhd))\n"
      ],
      "execution_count": null,
      "outputs": [
        {
          "output_type": "stream",
          "text": [
            "DSC is 1.0, loss is 0.0, Hausdorf = 0.0, Modified Hausdorf = (0.0, 0.0, 0.0)\n"
          ],
          "name": "stdout"
        },
        {
          "output_type": "display_data",
          "data": {
            "image/png": "[encoded data removed]",
            "text/plain": [
              "<Figure size 432x288 with 1 Axes>"
            ]
          },
          "metadata": {
            "tags": [],
            "needs_background": "light"
          }
        }
      ]
    },
    {
      "cell_type": "markdown",
      "metadata": {
        "id": "icF9-AqkpUZ5",
        "colab_type": "text"
      },
      "source": [
        "We hope you have enjoyed and learned from this notebook."
      ]
    }
  ]
}